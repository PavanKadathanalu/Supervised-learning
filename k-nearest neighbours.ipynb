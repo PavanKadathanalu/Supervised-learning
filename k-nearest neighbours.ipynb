{
 "cells": [
  {
   "cell_type": "code",
   "execution_count": 31,
   "id": "ce2dda3d",
   "metadata": {},
   "outputs": [],
   "source": [
    "#This file consists of Implementing K-nearest neioghbours from scratch without using sklearn library or any implementation library."
   ]
  },
  {
   "cell_type": "code",
   "execution_count": 32,
   "id": "727a241b",
   "metadata": {},
   "outputs": [],
   "source": [
    "#importing required libraries\n",
    "import numpy as np\n",
    "import pandas as pd"
   ]
  },
  {
   "cell_type": "code",
   "execution_count": 33,
   "id": "35825a10",
   "metadata": {},
   "outputs": [],
   "source": [
    "train_df = pd.read_csv('train.csv')\n",
    "test_df = pd.read_csv('test.csv')"
   ]
  },
  {
   "cell_type": "code",
   "execution_count": 34,
   "id": "7ba2a920",
   "metadata": {},
   "outputs": [
    {
     "data": {
      "text/html": [
       "<div>\n",
       "<style scoped>\n",
       "    .dataframe tbody tr th:only-of-type {\n",
       "        vertical-align: middle;\n",
       "    }\n",
       "\n",
       "    .dataframe tbody tr th {\n",
       "        vertical-align: top;\n",
       "    }\n",
       "\n",
       "    .dataframe thead th {\n",
       "        text-align: right;\n",
       "    }\n",
       "</style>\n",
       "<table border=\"1\" class=\"dataframe\">\n",
       "  <thead>\n",
       "    <tr style=\"text-align: right;\">\n",
       "      <th></th>\n",
       "      <th>PassengerId</th>\n",
       "      <th>Survived</th>\n",
       "      <th>Pclass</th>\n",
       "      <th>Name</th>\n",
       "      <th>Sex</th>\n",
       "      <th>Age</th>\n",
       "      <th>SibSp</th>\n",
       "      <th>Parch</th>\n",
       "      <th>Ticket</th>\n",
       "      <th>Fare</th>\n",
       "      <th>Cabin</th>\n",
       "      <th>Embarked</th>\n",
       "    </tr>\n",
       "  </thead>\n",
       "  <tbody>\n",
       "    <tr>\n",
       "      <th>0</th>\n",
       "      <td>1</td>\n",
       "      <td>0</td>\n",
       "      <td>3</td>\n",
       "      <td>Braund, Mr. Owen Harris</td>\n",
       "      <td>male</td>\n",
       "      <td>22.0</td>\n",
       "      <td>1</td>\n",
       "      <td>0</td>\n",
       "      <td>A/5 21171</td>\n",
       "      <td>7.2500</td>\n",
       "      <td>NaN</td>\n",
       "      <td>S</td>\n",
       "    </tr>\n",
       "    <tr>\n",
       "      <th>1</th>\n",
       "      <td>2</td>\n",
       "      <td>1</td>\n",
       "      <td>1</td>\n",
       "      <td>Cumings, Mrs. John Bradley (Florence Briggs Th...</td>\n",
       "      <td>female</td>\n",
       "      <td>38.0</td>\n",
       "      <td>1</td>\n",
       "      <td>0</td>\n",
       "      <td>PC 17599</td>\n",
       "      <td>71.2833</td>\n",
       "      <td>C85</td>\n",
       "      <td>C</td>\n",
       "    </tr>\n",
       "    <tr>\n",
       "      <th>2</th>\n",
       "      <td>3</td>\n",
       "      <td>1</td>\n",
       "      <td>3</td>\n",
       "      <td>Heikkinen, Miss. Laina</td>\n",
       "      <td>female</td>\n",
       "      <td>26.0</td>\n",
       "      <td>0</td>\n",
       "      <td>0</td>\n",
       "      <td>STON/O2. 3101282</td>\n",
       "      <td>7.9250</td>\n",
       "      <td>NaN</td>\n",
       "      <td>S</td>\n",
       "    </tr>\n",
       "    <tr>\n",
       "      <th>3</th>\n",
       "      <td>4</td>\n",
       "      <td>1</td>\n",
       "      <td>1</td>\n",
       "      <td>Futrelle, Mrs. Jacques Heath (Lily May Peel)</td>\n",
       "      <td>female</td>\n",
       "      <td>35.0</td>\n",
       "      <td>1</td>\n",
       "      <td>0</td>\n",
       "      <td>113803</td>\n",
       "      <td>53.1000</td>\n",
       "      <td>C123</td>\n",
       "      <td>S</td>\n",
       "    </tr>\n",
       "    <tr>\n",
       "      <th>4</th>\n",
       "      <td>5</td>\n",
       "      <td>0</td>\n",
       "      <td>3</td>\n",
       "      <td>Allen, Mr. William Henry</td>\n",
       "      <td>male</td>\n",
       "      <td>35.0</td>\n",
       "      <td>0</td>\n",
       "      <td>0</td>\n",
       "      <td>373450</td>\n",
       "      <td>8.0500</td>\n",
       "      <td>NaN</td>\n",
       "      <td>S</td>\n",
       "    </tr>\n",
       "  </tbody>\n",
       "</table>\n",
       "</div>"
      ],
      "text/plain": [
       "   PassengerId  Survived  Pclass  \\\n",
       "0            1         0       3   \n",
       "1            2         1       1   \n",
       "2            3         1       3   \n",
       "3            4         1       1   \n",
       "4            5         0       3   \n",
       "\n",
       "                                                Name     Sex   Age  SibSp  \\\n",
       "0                            Braund, Mr. Owen Harris    male  22.0      1   \n",
       "1  Cumings, Mrs. John Bradley (Florence Briggs Th...  female  38.0      1   \n",
       "2                             Heikkinen, Miss. Laina  female  26.0      0   \n",
       "3       Futrelle, Mrs. Jacques Heath (Lily May Peel)  female  35.0      1   \n",
       "4                           Allen, Mr. William Henry    male  35.0      0   \n",
       "\n",
       "   Parch            Ticket     Fare Cabin Embarked  \n",
       "0      0         A/5 21171   7.2500   NaN        S  \n",
       "1      0          PC 17599  71.2833   C85        C  \n",
       "2      0  STON/O2. 3101282   7.9250   NaN        S  \n",
       "3      0            113803  53.1000  C123        S  \n",
       "4      0            373450   8.0500   NaN        S  "
      ]
     },
     "execution_count": 34,
     "metadata": {},
     "output_type": "execute_result"
    }
   ],
   "source": [
    "train_df.head()"
   ]
  },
  {
   "cell_type": "code",
   "execution_count": 35,
   "id": "93497359",
   "metadata": {},
   "outputs": [
    {
     "data": {
      "text/plain": [
       "Survived       1.000000\n",
       "Fare           0.257307\n",
       "Parch          0.081629\n",
       "PassengerId   -0.005007\n",
       "SibSp         -0.035322\n",
       "Age           -0.077221\n",
       "Pclass        -0.338481\n",
       "Name: Survived, dtype: float64"
      ]
     },
     "execution_count": 35,
     "metadata": {},
     "output_type": "execute_result"
    }
   ],
   "source": [
    "corr_matrix = train_df.corr()\n",
    "corr_matrix[\"Survived\"].sort_values(ascending=False)"
   ]
  },
  {
   "cell_type": "code",
   "execution_count": 36,
   "id": "10e041b7",
   "metadata": {},
   "outputs": [
    {
     "name": "stdout",
     "output_type": "stream",
     "text": [
      "<class 'pandas.core.frame.DataFrame'>\n",
      "RangeIndex: 891 entries, 0 to 890\n",
      "Data columns (total 12 columns):\n",
      " #   Column       Non-Null Count  Dtype  \n",
      "---  ------       --------------  -----  \n",
      " 0   PassengerId  891 non-null    int64  \n",
      " 1   Survived     891 non-null    int64  \n",
      " 2   Pclass       891 non-null    int64  \n",
      " 3   Name         891 non-null    object \n",
      " 4   Sex          891 non-null    object \n",
      " 5   Age          714 non-null    float64\n",
      " 6   SibSp        891 non-null    int64  \n",
      " 7   Parch        891 non-null    int64  \n",
      " 8   Ticket       891 non-null    object \n",
      " 9   Fare         891 non-null    float64\n",
      " 10  Cabin        204 non-null    object \n",
      " 11  Embarked     889 non-null    object \n",
      "dtypes: float64(2), int64(5), object(5)\n",
      "memory usage: 83.7+ KB\n"
     ]
    }
   ],
   "source": [
    "#This is required because we want to visualize this data set with a numeric value so determining the data type of each feature\n",
    "train_df.info()"
   ]
  },
  {
   "cell_type": "code",
   "execution_count": 37,
   "id": "9b0b408a",
   "metadata": {},
   "outputs": [
    {
     "name": "stdout",
     "output_type": "stream",
     "text": [
      "<class 'pandas.core.frame.DataFrame'>\n",
      "RangeIndex: 891 entries, 0 to 890\n",
      "Data columns (total 12 columns):\n",
      " #   Column       Non-Null Count  Dtype  \n",
      "---  ------       --------------  -----  \n",
      " 0   PassengerId  891 non-null    int64  \n",
      " 1   Survived     891 non-null    int64  \n",
      " 2   Pclass       891 non-null    int64  \n",
      " 3   Name         891 non-null    object \n",
      " 4   Sex          891 non-null    object \n",
      " 5   Age          714 non-null    float64\n",
      " 6   SibSp        891 non-null    int64  \n",
      " 7   Parch        891 non-null    int64  \n",
      " 8   Ticket       891 non-null    object \n",
      " 9   Fare         891 non-null    float64\n",
      " 10  Cabin        204 non-null    object \n",
      " 11  Embarked     891 non-null    object \n",
      "dtypes: float64(2), int64(5), object(5)\n",
      "memory usage: 83.7+ KB\n"
     ]
    }
   ],
   "source": [
    "#There are too many missing values in cabin features, we can consider to drop this feature. Sex and Emabrked seems the features that need to investigate at this point\n",
    "train_df[\"Embarked\"] = train_df[\"Embarked\"].fillna(\"s\")\n",
    "train_df.info()"
   ]
  },
  {
   "cell_type": "code",
   "execution_count": 38,
   "id": "5c63ae8f",
   "metadata": {},
   "outputs": [],
   "source": [
    "#importing libraries for visualization\n",
    "import matplotlib.pyplot as plt\n",
    "import seaborn as sns\n"
   ]
  },
  {
   "cell_type": "code",
   "execution_count": 39,
   "id": "66f96e54",
   "metadata": {},
   "outputs": [
    {
     "data": {
      "image/png": "[encoded data removed]",
      "text/plain": [
       "<Figure size 432x288 with 1 Axes>"
      ]
     },
     "metadata": {
      "needs_background": "light"
     },
     "output_type": "display_data"
    }
   ],
   "source": [
    "sns.barplot(\n",
    "    data = train_df,\n",
    "    x='Sex',\n",
    "    y='Survived'\n",
    ")\n",
    "plt.show()"
   ]
  },
  {
   "cell_type": "code",
   "execution_count": 40,
   "id": "176c717d",
   "metadata": {},
   "outputs": [
    {
     "data": {
      "text/plain": [
       "<AxesSubplot:xlabel='Embarked', ylabel='count'>"
      ]
     },
     "execution_count": 40,
     "metadata": {},
     "output_type": "execute_result"
    },
    {
     "data": {
      "image/png": "[encoded data removed]",
      "text/plain": [
       "<Figure size 432x288 with 1 Axes>"
      ]
     },
     "metadata": {
      "needs_background": "light"
     },
     "output_type": "display_data"
    }
   ],
   "source": [
    "#It is obviously that female has much higher survival rate than male\n",
    "sns.countplot(train_df['Embarked'])"
   ]
  },
  {
   "cell_type": "code",
   "execution_count": 41,
   "id": "4fe8ad36",
   "metadata": {},
   "outputs": [
    {
     "data": {
      "image/png": "[encoded data removed]",
      "text/plain": [
       "<Figure size 432x288 with 1 Axes>"
      ]
     },
     "metadata": {
      "needs_background": "light"
     },
     "output_type": "display_data"
    }
   ],
   "source": [
    "sns.barplot(\n",
    "    data = train_df,\n",
    "    x='Embarked',\n",
    "    y='Survived'\n",
    ")\n",
    "plt.show()"
   ]
  },
  {
   "cell_type": "code",
   "execution_count": 42,
   "id": "bedf681a",
   "metadata": {},
   "outputs": [
    {
     "data": {
      "image/png": "[encoded data removed]",
      "text/plain": [
       "<Figure size 432x288 with 1 Axes>"
      ]
     },
     "metadata": {
      "needs_background": "light"
     },
     "output_type": "display_data"
    }
   ],
   "source": [
    "sns.barplot(\n",
    "    data = train_df,\n",
    "    x='Pclass',\n",
    "    y='Survived'\n",
    ")\n",
    "plt.show()"
   ]
  },
  {
   "cell_type": "code",
   "execution_count": 94,
   "id": "7a2eb7a9",
   "metadata": {},
   "outputs": [],
   "source": [
    "from sklearn.metrics import accuracy_score\n",
    "from collections import Counter\n",
    "import pandas as pd \n",
    "import numpy as np \n",
    "import itertools\n",
    "import random \n",
    "import warnings\n",
    "warnings.filterwarnings(\"ignore\")\n",
    "random.seed(0)\n",
    "\n",
    "# Read the data \n",
    "train_df = pd.read_csv('train.csv')\n",
    "test_df =  pd.read_csv('test.csv')\n",
    "\n",
    "# Join the train and test dataframes so the data preprocessing \n",
    "# will be done simultaneously in both datasets \n",
    "full_df = train_df.append(test_df, ignore_index=True)"
   ]
  },
  {
   "cell_type": "code",
   "execution_count": 95,
   "id": "66e0e40d",
   "metadata": {},
   "outputs": [],
   "source": [
    "def data_preprocessing(df):\n",
    "  \n",
    "  # Label-encode the sex of a passenger \n",
    "  df['Sex'] = df['Sex'].replace(['male'],0)\n",
    "  df['Sex'] = df['Sex'].replace(['female'],1)\n",
    "\n",
    "  # Initialize new columns \n",
    "  df['title'] = np.NaN\n",
    "  df['alone'] = np.NaN\n",
    "  df['cabin_class'] = np.NaN\n",
    "\n",
    "  # Identify if a passenger is alone in the ship \n",
    "  for i,_ in enumerate(df['alone']):\n",
    "    if df['SibSp'][i] + df['Parch'][i] == 0:\n",
    "      df['alone'][i] = 1\n",
    "    else:\n",
    "      df['alone'][i] = 0 \n",
    "    \n",
    "    # Handle missing values\n",
    "  cols = ['SibSp','Parch','Fare','Age']\n",
    "  for col in cols:\n",
    "    df[col].fillna(df[col].median(), inplace = True)\n",
    "    \n",
    "  # Feature-engineer the cabin-class \n",
    "  for i,row in enumerate(df['Cabin']):\n",
    "    # Get cabin class \n",
    "    df['cabin_class'][i] =  str(row)[:1]\n",
    "\n",
    "  # Count the cabin distribution per class (if available) \n",
    "  cabin_distribution = {}\n",
    "  count = 0 \n",
    "  for row in df['cabin_class']:\n",
    "    if row != 'n':\n",
    "      count += 1 \n",
    "      if row not in cabin_distribution:\n",
    "        cabin_distribution[row] = 1 \n",
    "      else:\n",
    "        cabin_distribution[row] +=1 \n",
    "        \n",
    "        # Calculate the probability of being in a sepcific cabin-class  \n",
    "  cabin_pdf = {k:v / count for k, v in cabin_distribution.items()}\n",
    "\n",
    "  # Calculate the cumulative probability of being in a specific cabin-class \n",
    "  keys, vals = cabin_pdf.keys(), cabin_pdf.values()\n",
    "  cabin_cdf = dict(zip(keys, itertools.accumulate(vals)))\n",
    "  cabin_cdf = sorted(cabin_cdf.items(), key=lambda x: x[1])    \n",
    "\n",
    "  # Randomly assign cabin-classes to passengers that are missing the cabin \n",
    "  # field, based on the probabilities calculated above \n",
    "  for i,row in enumerate(df['cabin_class']):\n",
    "    random_num = random.random()\n",
    "    if row == 'n':\n",
    "      if random_num < cabin_cdf[0][1]:\n",
    "        df['cabin_class'][i] =  cabin_cdf[0][0]\n",
    "      elif cabin_cdf[0][1] <= random_num < cabin_cdf[1][1]:\n",
    "        df['cabin_class'][i] =  cabin_cdf[1][0]\n",
    "\n",
    "      elif cabin_cdf[1][1] <= random_num < cabin_cdf[2][1]:\n",
    "        df['cabin_class'][i] =  cabin_cdf[2][0]\n",
    "        \n",
    "      elif cabin_cdf[2][1] <= random_num < cabin_cdf[3][1]:\n",
    "        df['cabin_class'][i] =  cabin_cdf[2][0]\n",
    "\n",
    "      elif cabin_cdf[3][1] <= random_num < cabin_cdf[4][1]:\n",
    "        df['cabin_class'][i] =  cabin_cdf[3][0]\n",
    "\n",
    "      elif cabin_cdf[3][1] <= random_num < cabin_cdf[4][1]:\n",
    "        df['cabin_class'][i] =  cabin_cdf[4][0]\n",
    "\n",
    "      elif cabin_cdf[4][1] <= random_num < cabin_cdf[5][1]:\n",
    "        df['cabin_class'][i] =  cabin_cdf[4][0]\n",
    "      \n",
    "      elif cabin_cdf[5][1] <= random_num < cabin_cdf[6][1]:\n",
    "        df['cabin_class'][i] =  cabin_cdf[5][0]\n",
    "\n",
    "      elif cabin_cdf[6][1] <= random_num < cabin_cdf[7][1]:\n",
    "        df['cabin_class'][i] =  cabin_cdf[6][0]\n",
    "      else:\n",
    "        df['cabin_class'][i] = cabin_cdf[7][0]\n",
    "        \n",
    "         # Perform feature engineering to obtain additional title-info \n",
    "  for i,row in enumerate(df['Name']):\n",
    "    # Get person's title \n",
    "    df['title'][i] = row.split(',')[1].split('.')[0]\n",
    "\n",
    "  # Embarked one-hot encoding \n",
    "  embarked_dummies = pd.get_dummies(df.Embarked, prefix='Embarked')\n",
    "  df = pd.concat([df, embarked_dummies], axis=1)\n",
    "\n",
    "  # Person's title one-hot encoding \n",
    "  title_dummies = pd.get_dummies(df.title, prefix='title')\n",
    "  df = pd.concat([df, title_dummies], axis=1)\n",
    "\n",
    "  # Cabin class one-hot encoding \n",
    "  cabin_class_dummies = pd.get_dummies(df.cabin_class, prefix = 'cabin_class')\n",
    "  df = pd.concat([df, cabin_class_dummies], axis = 1)\n",
    "\n",
    "#Remove unecessary columns \n",
    "  del df['Name']\n",
    "  del df['PassengerId']\n",
    "  del df['title']\n",
    "  del df['Embarked']\n",
    "  del df['Cabin']\n",
    "  del df['Ticket']\n",
    "  del df['cabin_class']\n",
    "\n",
    "  return df "
   ]
  },
  {
   "cell_type": "code",
   "execution_count": 96,
   "id": "42c36d46",
   "metadata": {},
   "outputs": [
    {
     "name": "stdout",
     "output_type": "stream",
     "text": [
      "After preprocessing there are 891 rows and 36 columns in the training data.\n",
      "\n",
      "After preprocessing there are 418 rows and 36 columns in the test data.\n"
     ]
    }
   ],
   "source": [
    "# Preprocess the data and create the train / test sets \n",
    "full_df = data_preprocessing(full_df)\n",
    "X_train = full_df[:891]\n",
    "y_train = full_df['Survived'][:891]\n",
    "X_test = full_df[891:]\n",
    "del X_train['Survived']\n",
    "del X_test['Survived']\n",
    "\n",
    "\n",
    "print(f'After preprocessing there are {X_train.shape[0]} rows and {X_train.shape[1]} columns in the training data.\\n')\n",
    "print(f'After preprocessing there are {X_test.shape[0]} rows and {X_test.shape[1]} columns in the test data.')"
   ]
  },
  {
   "cell_type": "code",
   "execution_count": 97,
   "id": "6f855e8c",
   "metadata": {},
   "outputs": [],
   "source": [
    "# Since we are not going to be using any fancy modules for our algorithm \n",
    "# we will be converting our data from pandas dataframe to python lists. \n",
    "X_train = X_train.values.tolist()\n",
    "X_test = X_test.values.tolist()"
   ]
  },
  {
   "cell_type": "code",
   "execution_count": 102,
   "id": "0036fc3d",
   "metadata": {},
   "outputs": [],
   "source": [
    "class KNearestNeighbors():\n",
    "    def __init__(self,k):\n",
    "        self.k = k \n",
    "        self.X_train = None  \n",
    "        self.classes = []\n",
    "    \n",
    "    @staticmethod \n",
    "    def euclidean_distance(row1,row2):\n",
    "      sum = 0\n",
    "      for i,j in zip(row1,row2):\n",
    "        sum += (i-j) ** 2 \n",
    "      distance = sum ** 0.5 \n",
    "      return distance\n",
    "    \n",
    "    def _predict(self,classes,distances,k):\n",
    "      # Sort in descending order the distances and retrieve the index \n",
    "      # which maps to their corresponding class \n",
    "      idxs = sorted(range(len(distances)),key = lambda x:distances[x])[:self.k] \n",
    "      # Finding the class for each neighbor  \n",
    "      neighbors = [self.classes[idx] for idx in idxs]\n",
    "      # Choosing the most ocurring class \n",
    "      prediction = Counter(neighbors).most_common(1) # bit of a cheat here :)\n",
    "      return prediction[0][0]\n",
    "\n",
    "    def fit(self,X_train,y_train):\n",
    "        self.X_train = X_train\n",
    "        predictions = []\n",
    "        # For each passenger in the training dataset:\n",
    "        for i in range(len(X_train)):\n",
    "            distances = []\n",
    "            classes = []\n",
    "            # Estimate the Euclidean distance for the current \n",
    "            # passenger with all the other passengers \n",
    "            for x,y in zip(X_train,y_train):\n",
    "                distances.append(self.euclidean_distance(X_train[i],x))\n",
    "                # Append the class that corresponds to the current passenger\n",
    "                self.classes.append(y)\n",
    "            # Predict the class for the current passenger \n",
    "            prediction = self._predict(self.classes,distances,self.k)\n",
    "            predictions.append(prediction)\n",
    "        print(f'Utilizing {self.k} groups of nearest-neighbors the training accuracy is at {round(accuracy_score(predictions,y_train)*100,2)}%.')\n",
    "        return predictions   \n",
    "\n",
    "    def predict(self,X_test):\n",
    "        # Predictions for the test data \n",
    "        predictions = []\n",
    "        for i in range(len(X_test)):\n",
    "            distances = []\n",
    "            for x in self.X_train:\n",
    "                distances.append(self.euclidean_distance(X_test[i],x))\n",
    "            prediction = self._predict(self.classes,distances,self.k)\n",
    "            predictions.append(prediction)\n",
    "        return predictions \n"
   ]
  },
  {
   "cell_type": "code",
   "execution_count": 103,
   "id": "afb8fd10",
   "metadata": {},
   "outputs": [
    {
     "name": "stdout",
     "output_type": "stream",
     "text": [
      "Utilizing 4 groups of nearest-neighbors the training accuracy is at 88.78%.\n"
     ]
    }
   ],
   "source": [
    "# Choosing an arbritrary number for k to be 4 \n",
    "KNN = KNearestNeighbors(k=4)\n",
    "KNN.fit(X_train,y_train)\n",
    "predictions = KNN.predict(X_test)"
   ]
  },
  {
   "cell_type": "code",
   "execution_count": null,
   "id": "5a5edbe4",
   "metadata": {},
   "outputs": [],
   "source": []
  }
 ],
 "metadata": {
  "kernelspec": {
   "display_name": "Python 3 (ipykernel)",
   "language": "python",
   "name": "python3"
  },
  "language_info": {
   "codemirror_mode": {
    "name": "ipython",
    "version": 3
   },
   "file_extension": ".py",
   "mimetype": "text/x-python",
   "name": "python",
   "nbconvert_exporter": "python",
   "pygments_lexer": "ipython3",
   "version": "3.9.12"
  }
 },
 "nbformat": 4,
 "nbformat_minor": 5
}
